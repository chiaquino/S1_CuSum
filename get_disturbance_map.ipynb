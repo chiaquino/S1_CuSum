{
 "cells": [
  {
   "cell_type": "markdown",
   "id": "8e2d3ef4",
   "metadata": {},
   "source": [
    "# Sentinel-1 Cumulative Sum Analysis to Map Forest Disturbances\n",
    "\n",
    "__Author__: Chiara Aquino <br>\n",
    "__Date__: 30 Aug 2022\n",
    "\n",
    "Output: 2 GeoTiff rasters:\n",
    "- Intensity of forest disturbance (as peak of the CuSum curve, in $\\gamma_{0}$ units)\n",
    "- Date of forest disturbance (in Date Of Year units)\n",
    "\n"
   ]
  },
  {
   "cell_type": "code",
   "execution_count": 6,
   "id": "e48abab2",
   "metadata": {},
   "outputs": [],
   "source": [
    "import ee\n",
    "ee.Initialize()\n",
    "\n",
    "import geemap\n",
    "import os\n",
    "import xarray as xr\n",
    "import rioxarray"
   ]
  },
  {
   "cell_type": "markdown",
   "id": "a4db38fa",
   "metadata": {},
   "source": [
    "#### Image Processing Functions"
   ]
  },
  {
   "cell_type": "code",
   "execution_count": null,
   "id": "f5b37a0f",
   "metadata": {},
   "outputs": [],
   "source": [
    "#convert from sigma_0 to gamma_0\n",
    "def toGamma0(image):\n",
    "  gamma0 = image.select('VV').subtract(image.select('angle').multiply(np.pi/180.0).cos().log10().multiply(10.0));\n",
    "  return gamma0.copyProperties(image).copyProperties(image,['system:time_start']);\n",
    "\n",
    "# mosaic images with the same date that have been spatially split\n",
    "def mosaicByDate(imcol):\n",
    "    imlist = imcol.toList(imcol.size())\n",
    "    unique_dates = imlist.map(lambda im: ee.Image(im).date().format(\"YYYY-MM-dd\")).distinct()\n",
    "    def mosaic_imlist(d):\n",
    "        d = ee.Date(d)\n",
    "        im = imcol.filterDate(d, d.advance(1, \"day\")).mosaic() \n",
    "        return im.set(\n",
    "        \"system:time_start\", d.millis(), \n",
    "        \"system:id\", d.format(\"YYYY-MM-dd\"));\n",
    "\n",
    "    return ee.ImageCollection(unique_dates.map(mosaic_imlist))"
   ]
  },
  {
   "cell_type": "markdown",
   "id": "e487b492",
   "metadata": {},
   "source": [
    "#### Define input parameters "
   ]
  },
  {
   "cell_type": "code",
   "execution_count": 4,
   "id": "d09756e1",
   "metadata": {},
   "outputs": [],
   "source": [
    "# define year of the analysis\n",
    "\n",
    "year = 2020;\n",
    "START_DATE = str(year-1)+\"-01-01\"; #no image before\n",
    "END_DATE = str(year+1)+\"-07-01\"; #exclusive = ie., until 2021-06-31\n",
    "\n",
    "# define image projection \n",
    "\n",
    "crs = \"EPSG:4326\""
   ]
  },
  {
   "cell_type": "code",
   "execution_count": null,
   "id": "0999dd9b",
   "metadata": {},
   "outputs": [],
   "source": [
    "# define your area of interest\n",
    "\n",
    "aoi_shp = 'path/to/shapefile_with_aoi'\n",
    "aoi = geemap.shp_to_ee(aoi_shp)\n",
    "\n",
    "# choose a path for your output directory. This is where you will have saved all the images in the collection\n",
    "\n",
    "outdir = 'path/to/your/ouput_directory_image_collection/'"
   ]
  },
  {
   "cell_type": "markdown",
   "id": "201fd866",
   "metadata": {},
   "source": [
    "#### Download Image Collection\n"
   ]
  },
  {
   "cell_type": "code",
   "execution_count": null,
   "id": "4887816c",
   "metadata": {},
   "outputs": [],
   "source": [
    "collection = (ee.ImageCollection('COPERNICUS/S1_GRD')\n",
    "          .filterBounds(region).filterDate(ee.Date(START_DATE), ee.Date(END_DATE))\n",
    "          .filter(ee.Filter.eq('instrumentMode', 'IW'))\n",
    "          .filter(ee.Filter.eq('orbitProperties_pass', 'DESCENDING'))\n",
    "          .filterMetadata('transmitterReceiverPolarisation', 'equals', ['VV', 'VH'])\n",
    "          .filterMetadata('resolution_meters', 'equals', 10)\n",
    "          .map(toGamma0)\n",
    "          .map(lambda image:image.clip(aoi.geometry())))\n",
    "\n",
    "# select VV polarization\n",
    "vv = collection.select(['VV']) \n",
    "vv_size = vv.size().getInfo()\n",
    "print('original size of Image Stack: ', vv_size)\n",
    "\n",
    "#get image dates\n",
    "imlist = vv.toList(vv.size())\n",
    "unique_dates = imlist.map(lambda im:ee.Image(im).date().format(\"YYYY-MM-dd\")).distinct()\n",
    "date_list = unique_dates.getInfo()\n",
    "\n",
    "#mosaic images with same date\n",
    "vv_mosaic = mosaicByDate(vv)\n",
    "mosaic_size = vv_mosaic.size().getInfo()\n",
    "print('size of Image Stack after mosaicking: ' ,mosaic_size)\n",
    "\n",
    "#export Image Collection to your folder\n",
    "geemap.ee_export_image_collection(vv_mosaic, scale=10,out_dir=outdir, region=aoi.geometry(),crs=crs)\n",
    "        "
   ]
  },
  {
   "cell_type": "markdown",
   "id": "e29f3af1",
   "metadata": {},
   "source": [
    "#### Convert Image Collection to xarray"
   ]
  },
  {
   "cell_type": "code",
   "execution_count": null,
   "id": "75ac41f7",
   "metadata": {},
   "outputs": [],
   "source": [
    "# list all downloaded images\n",
    "vv_tifs = os.listdir(outdir)\n",
    "files = list(filter(os.path.isfile, glob.glob(outdir + \"*.tif\")))\n",
    "    \n",
    "#sort images by download time\n",
    "files.sort(key=lambda x: os.path.getctime(x))\n",
    "\n",
    "# loop through the list, open image as xarray and assign time label\n",
    "list_da=[]\n",
    "for file, date in zip(files, date_list):\n",
    "    da = xr.open_rasterio(file,masked=True)\n",
    "    dt = datetime.datetime.strptime(date,\"%Y-%m-%d\")\n",
    "    dt = pd.to_datetime(dt)\n",
    "    da = da.assign_coords(time = dt)\n",
    "    da = da.expand_dims(dim=\"time\")\n",
    "    list_da.append(da)\n",
    "    \n",
    "#stack data arrays in list\n",
    "ds = xr.combine_by_coords(list_da)\n"
   ]
  },
  {
   "cell_type": "markdown",
   "id": "feab9785",
   "metadata": {},
   "source": [
    "#### CumSum implementation"
   ]
  },
  {
   "cell_type": "code",
   "execution_count": null,
   "id": "d2f83308",
   "metadata": {},
   "outputs": [],
   "source": [
    "# get timeseries mean\n",
    "dsmean = ds.mean(dim='time')\n",
    "#get time series residual\n",
    "R = ds-dsmean \n",
    "# get time series cumulative sum\n",
    "S = R.cumsum(dim=\"time\") \n",
    "# get maximum of the cumulative sum\n",
    "Smax= S.max(dim=\"time\")     \n",
    "# the threshold is calculated as 99th percentile of the CuSum max\n",
    "threshold = np.percentile(Smax, 99) \n",
    "# filter cumulative sum array by year of interest\n",
    "Sfilt_time = S.sel(time=year) \n",
    "# convert to DOY\n",
    "Sfilt_time['time'] = Sfilt_time[\"time.dayofyear\"]\n",
    "# spatially filter by 99th percentile\n",
    "Sfilt_n = Sfilt_time.where(Sfilt_time>= threshold,np.nan)\n",
    "# determine where you have valid data\n",
    "mask = Sfilt_n['time'].isel(time=0).notnull()  \n",
    "#convert Nan to calculate maximum\n",
    "Sfilt_n2 = Sfilt_n.fillna(-9999)\n",
    "# get the date where the curve reaches the maximum value\n",
    "Sfilt_max = Sfilt_n2.isel(time = Sfilt_n2.argmax('time')).where(mask) \n",
    "\n",
    "max_values = Sfilt_max.where(Sfilt_max> -9999,np.nan)\n",
    "max_dates = Sfilt_n.idxmax(dim=\"time\")\n",
    "\n",
    "max_values.name = 'Smax'\n",
    "max_dates.name = 'doy'"
   ]
  },
  {
   "cell_type": "markdown",
   "id": "60793d5d",
   "metadata": {},
   "source": [
    "#### Save outputs\n"
   ]
  },
  {
   "cell_type": "code",
   "execution_count": null,
   "id": "d7008c97",
   "metadata": {},
   "outputs": [],
   "source": [
    "intensityName = 'path/output/folder/Smax.tif'   # path to your folder for Smax intensity image\n",
    "dateName = 'path/output/folder/Dates.tif'       # path to your folder for Date image\n",
    "\n",
    "max_values_raster = max_values.rio.write_crs(crs)\n",
    "max_values_raster.rio.to_raster(intensityName,compress='LZMA')\n",
    "\n",
    "max_dates_raster = max_dates.rio.write_crs(crs)\n",
    "max_dates_raster.rio.to_raster(dateName,compress='LZMA')"
   ]
  },
  {
   "cell_type": "code",
   "execution_count": null,
   "id": "23344fec",
   "metadata": {},
   "outputs": [],
   "source": []
  }
 ],
 "metadata": {
  "kernelspec": {
   "display_name": "Python 3 (ipykernel)",
   "language": "python",
   "name": "python3"
  },
  "language_info": {
   "codemirror_mode": {
    "name": "ipython",
    "version": 3
   },
   "file_extension": ".py",
   "mimetype": "text/x-python",
   "name": "python",
   "nbconvert_exporter": "python",
   "pygments_lexer": "ipython3",
   "version": "3.9.13"
  }
 },
 "nbformat": 4,
 "nbformat_minor": 5
}
